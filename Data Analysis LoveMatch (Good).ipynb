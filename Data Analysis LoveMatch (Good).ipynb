{
 "cells": [
  {
   "cell_type": "markdown",
   "metadata": {},
   "source": [
    "# Análisis de datos LoveMatch"
   ]
  },
  {
   "cell_type": "markdown",
   "metadata": {},
   "source": [
    "Previo a realizar cualquier descricpción estadística, es necesario manipular los datos obtenidos en el modelo y agente ya que se presenta un problema de pérdida de información.\n",
    "\n",
    "En primer lugar, al momento de realizar el match, las parejas salen del modelo y del grid. Sin embargo, se llevan con ellos toda la información asociada a sus características. Por lo tanto, la información que necesitamos para comparar entre individuos se va con ellos. \n",
    "\n",
    "Sin embargo, es posible recuperar la información sobre quién se emparejó y quién no con la información de la paciencia (time_to_critical) así como la del número de steps sin encontrar pareja (sojourn), si tomamos en cuenta la diferencia entre estas dos variables podemos distinguir quienes dejaron el modelo (time - soj = 1) de aquellos que realizaron su match en su intervalo de paciencia individual (time- - soj != 1).\n",
    "\n",
    "Para estimar quienes son parejas y quienes se fueron sin match, es necesario agrupar los datos, obtener el valor máximo de sojourn y compararlo con el tiempo crítico. Una vez obtenido esta serie, la agregamos al DataFrame final y con este, ya es posible filtrar quienes tuvieron pareja y quienes no. Con esta información tomada en cuenta, es posible realizar estadística descriptiva para cada grupo."
   ]
  },
  {
   "cell_type": "code",
   "execution_count": 136,
   "metadata": {},
   "outputs": [],
   "source": [
    "import pandas as pd\n",
    "import matplotlib.pyplot as plt\n",
    "import seaborn as sns"
   ]
  },
  {
   "cell_type": "code",
   "execution_count": 137,
   "metadata": {},
   "outputs": [],
   "source": [
    "pd.set_option('display.max_rows',5279)"
   ]
  },
  {
   "cell_type": "code",
   "execution_count": null,
   "metadata": {},
   "outputs": [],
   "source": [
    "##### Importar bases de datos para agentes y el modelo ########"
   ]
  },
  {
   "cell_type": "code",
   "execution_count": 178,
   "metadata": {},
   "outputs": [],
   "source": [
    "info_agentes = pd.read_csv(\"a_good.csv\")"
   ]
  },
  {
   "cell_type": "code",
   "execution_count": 179,
   "metadata": {},
   "outputs": [],
   "source": [
    "info_modelo = pd.read_csv(\"m_good.csv\")"
   ]
  },
  {
   "cell_type": "code",
   "execution_count": null,
   "metadata": {},
   "outputs": [],
   "source": []
  },
  {
   "cell_type": "code",
   "execution_count": null,
   "metadata": {},
   "outputs": [],
   "source": []
  },
  {
   "cell_type": "code",
   "execution_count": 134,
   "metadata": {},
   "outputs": [],
   "source": [
    "#### Con soj y time encontramos los datos sobre la paciencia y el tiempo máximo de esta por agente (los datos se agruparon) #####"
   ]
  },
  {
   "cell_type": "code",
   "execution_count": 194,
   "metadata": {},
   "outputs": [],
   "source": [
    "soj = info_agentes.groupby('myid')['sojourn'].max()  "
   ]
  },
  {
   "cell_type": "code",
   "execution_count": 195,
   "metadata": {},
   "outputs": [],
   "source": [
    "time = info_agentes.groupby('myid')['time_to_critical'].max()"
   ]
  },
  {
   "cell_type": "code",
   "execution_count": null,
   "metadata": {},
   "outputs": [],
   "source": [
    "### La diferencia en el tiempo nos dice si se emparejaron o no. Si es igual a 1, entonces el tiempo que estuvo es igual a su tiempo máximo de espera. #####"
   ]
  },
  {
   "cell_type": "code",
   "execution_count": 196,
   "metadata": {},
   "outputs": [],
   "source": [
    "par = time - soj"
   ]
  },
  {
   "cell_type": "code",
   "execution_count": null,
   "metadata": {},
   "outputs": [],
   "source": []
  },
  {
   "cell_type": "code",
   "execution_count": 96,
   "metadata": {},
   "outputs": [],
   "source": [
    "#### Ahora agrupamos el dataframe por agentes para obtener características en un periodo fijo ####"
   ]
  },
  {
   "cell_type": "code",
   "execution_count": 199,
   "metadata": {},
   "outputs": [],
   "source": [
    "data = info_agentes.groupby(['myid'])[['gender','wealth', 'beauty','desired_beauty','desired_wealth','time_to_critical']]"
   ]
  },
  {
   "cell_type": "code",
   "execution_count": null,
   "metadata": {},
   "outputs": [],
   "source": [
    "#### convertimos el objeto de grouby a dataframe para futuras manipulaciones ####"
   ]
  },
  {
   "cell_type": "code",
   "execution_count": 200,
   "metadata": {},
   "outputs": [],
   "source": [
    "data = data.first()"
   ]
  },
  {
   "cell_type": "code",
   "execution_count": null,
   "metadata": {},
   "outputs": [],
   "source": [
    "#### agregamos la serie obtenida al dataframe de agentes para poder separar a los individuos emparejados de los solteros#####"
   ]
  },
  {
   "cell_type": "code",
   "execution_count": 201,
   "metadata": {},
   "outputs": [],
   "source": [
    "df = data.assign(estatus= par) "
   ]
  },
  {
   "cell_type": "code",
   "execution_count": null,
   "metadata": {},
   "outputs": [],
   "source": [
    "#### Creamos filtros para los distintos tipos de estatus ####"
   ]
  },
  {
   "cell_type": "code",
   "execution_count": 202,
   "metadata": {},
   "outputs": [],
   "source": [
    "is_single = df['estatus'] == 1"
   ]
  },
  {
   "cell_type": "code",
   "execution_count": 203,
   "metadata": {},
   "outputs": [],
   "source": [
    "is_match = df['estatus'] != 1"
   ]
  },
  {
   "cell_type": "code",
   "execution_count": null,
   "metadata": {},
   "outputs": [],
   "source": [
    "###### Creamos dos dataframes separados por estatus, una vez aplicado el filtro #######"
   ]
  },
  {
   "cell_type": "code",
   "execution_count": 204,
   "metadata": {},
   "outputs": [],
   "source": [
    "solteros = df[is_single]"
   ]
  },
  {
   "cell_type": "code",
   "execution_count": 205,
   "metadata": {},
   "outputs": [],
   "source": [
    "parejas = df[is_match]"
   ]
  },
  {
   "cell_type": "code",
   "execution_count": null,
   "metadata": {},
   "outputs": [],
   "source": []
  },
  {
   "cell_type": "code",
   "execution_count": null,
   "metadata": {},
   "outputs": [],
   "source": []
  },
  {
   "cell_type": "code",
   "execution_count": null,
   "metadata": {},
   "outputs": [],
   "source": []
  },
  {
   "cell_type": "code",
   "execution_count": null,
   "metadata": {},
   "outputs": [],
   "source": []
  },
  {
   "cell_type": "code",
   "execution_count": null,
   "metadata": {},
   "outputs": [],
   "source": []
  },
  {
   "cell_type": "code",
   "execution_count": null,
   "metadata": {},
   "outputs": [],
   "source": []
  },
  {
   "cell_type": "code",
   "execution_count": null,
   "metadata": {},
   "outputs": [],
   "source": []
  },
  {
   "cell_type": "code",
   "execution_count": null,
   "metadata": {},
   "outputs": [],
   "source": []
  },
  {
   "cell_type": "code",
   "execution_count": null,
   "metadata": {},
   "outputs": [],
   "source": []
  },
  {
   "cell_type": "code",
   "execution_count": null,
   "metadata": {},
   "outputs": [],
   "source": []
  },
  {
   "cell_type": "code",
   "execution_count": null,
   "metadata": {},
   "outputs": [],
   "source": [
    "####### ESTADISTICA DESCRIPTIVA #######"
   ]
  },
  {
   "cell_type": "code",
   "execution_count": 206,
   "metadata": {},
   "outputs": [
    {
     "data": {
      "text/html": [
       "<div>\n",
       "<style scoped>\n",
       "    .dataframe tbody tr th:only-of-type {\n",
       "        vertical-align: middle;\n",
       "    }\n",
       "\n",
       "    .dataframe tbody tr th {\n",
       "        vertical-align: top;\n",
       "    }\n",
       "\n",
       "    .dataframe thead th {\n",
       "        text-align: right;\n",
       "    }\n",
       "</style>\n",
       "<table border=\"1\" class=\"dataframe\">\n",
       "  <thead>\n",
       "    <tr style=\"text-align: right;\">\n",
       "      <th></th>\n",
       "      <th>gender</th>\n",
       "      <th>wealth</th>\n",
       "      <th>beauty</th>\n",
       "      <th>desired_beauty</th>\n",
       "      <th>desired_wealth</th>\n",
       "      <th>time_to_critical</th>\n",
       "      <th>estatus</th>\n",
       "    </tr>\n",
       "  </thead>\n",
       "  <tbody>\n",
       "    <tr>\n",
       "      <th>count</th>\n",
       "      <td>137.000000</td>\n",
       "      <td>137.000000</td>\n",
       "      <td>137.000000</td>\n",
       "      <td>137.000000</td>\n",
       "      <td>137.000000</td>\n",
       "      <td>137.000000</td>\n",
       "      <td>137.0</td>\n",
       "    </tr>\n",
       "    <tr>\n",
       "      <th>mean</th>\n",
       "      <td>0.452555</td>\n",
       "      <td>2.799203</td>\n",
       "      <td>2.828658</td>\n",
       "      <td>1.992519</td>\n",
       "      <td>2.170311</td>\n",
       "      <td>20.664234</td>\n",
       "      <td>1.0</td>\n",
       "    </tr>\n",
       "    <tr>\n",
       "      <th>std</th>\n",
       "      <td>0.499570</td>\n",
       "      <td>0.865767</td>\n",
       "      <td>0.896364</td>\n",
       "      <td>1.241689</td>\n",
       "      <td>1.617837</td>\n",
       "      <td>5.941229</td>\n",
       "      <td>0.0</td>\n",
       "    </tr>\n",
       "    <tr>\n",
       "      <th>min</th>\n",
       "      <td>0.000000</td>\n",
       "      <td>1.272594</td>\n",
       "      <td>1.177652</td>\n",
       "      <td>0.380680</td>\n",
       "      <td>0.383497</td>\n",
       "      <td>10.000000</td>\n",
       "      <td>1.0</td>\n",
       "    </tr>\n",
       "    <tr>\n",
       "      <th>25%</th>\n",
       "      <td>0.000000</td>\n",
       "      <td>2.185351</td>\n",
       "      <td>2.163211</td>\n",
       "      <td>1.164675</td>\n",
       "      <td>1.144102</td>\n",
       "      <td>16.000000</td>\n",
       "      <td>1.0</td>\n",
       "    </tr>\n",
       "    <tr>\n",
       "      <th>50%</th>\n",
       "      <td>0.000000</td>\n",
       "      <td>2.587520</td>\n",
       "      <td>2.690455</td>\n",
       "      <td>1.790116</td>\n",
       "      <td>1.704894</td>\n",
       "      <td>21.000000</td>\n",
       "      <td>1.0</td>\n",
       "    </tr>\n",
       "    <tr>\n",
       "      <th>75%</th>\n",
       "      <td>1.000000</td>\n",
       "      <td>3.361149</td>\n",
       "      <td>3.183893</td>\n",
       "      <td>2.417163</td>\n",
       "      <td>2.602130</td>\n",
       "      <td>26.000000</td>\n",
       "      <td>1.0</td>\n",
       "    </tr>\n",
       "    <tr>\n",
       "      <th>max</th>\n",
       "      <td>1.000000</td>\n",
       "      <td>5.663930</td>\n",
       "      <td>6.327872</td>\n",
       "      <td>6.965646</td>\n",
       "      <td>10.319424</td>\n",
       "      <td>30.000000</td>\n",
       "      <td>1.0</td>\n",
       "    </tr>\n",
       "  </tbody>\n",
       "</table>\n",
       "</div>"
      ],
      "text/plain": [
       "           gender      wealth      beauty  desired_beauty  desired_wealth  \\\n",
       "count  137.000000  137.000000  137.000000      137.000000      137.000000   \n",
       "mean     0.452555    2.799203    2.828658        1.992519        2.170311   \n",
       "std      0.499570    0.865767    0.896364        1.241689        1.617837   \n",
       "min      0.000000    1.272594    1.177652        0.380680        0.383497   \n",
       "25%      0.000000    2.185351    2.163211        1.164675        1.144102   \n",
       "50%      0.000000    2.587520    2.690455        1.790116        1.704894   \n",
       "75%      1.000000    3.361149    3.183893        2.417163        2.602130   \n",
       "max      1.000000    5.663930    6.327872        6.965646       10.319424   \n",
       "\n",
       "       time_to_critical  estatus  \n",
       "count        137.000000    137.0  \n",
       "mean          20.664234      1.0  \n",
       "std            5.941229      0.0  \n",
       "min           10.000000      1.0  \n",
       "25%           16.000000      1.0  \n",
       "50%           21.000000      1.0  \n",
       "75%           26.000000      1.0  \n",
       "max           30.000000      1.0  "
      ]
     },
     "execution_count": 206,
     "metadata": {},
     "output_type": "execute_result"
    }
   ],
   "source": [
    "solteros.describe()"
   ]
  },
  {
   "cell_type": "code",
   "execution_count": 207,
   "metadata": {},
   "outputs": [
    {
     "data": {
      "text/html": [
       "<div>\n",
       "<style scoped>\n",
       "    .dataframe tbody tr th:only-of-type {\n",
       "        vertical-align: middle;\n",
       "    }\n",
       "\n",
       "    .dataframe tbody tr th {\n",
       "        vertical-align: top;\n",
       "    }\n",
       "\n",
       "    .dataframe thead th {\n",
       "        text-align: right;\n",
       "    }\n",
       "</style>\n",
       "<table border=\"1\" class=\"dataframe\">\n",
       "  <thead>\n",
       "    <tr style=\"text-align: right;\">\n",
       "      <th></th>\n",
       "      <th>gender</th>\n",
       "      <th>wealth</th>\n",
       "      <th>beauty</th>\n",
       "      <th>desired_beauty</th>\n",
       "      <th>desired_wealth</th>\n",
       "      <th>time_to_critical</th>\n",
       "      <th>estatus</th>\n",
       "    </tr>\n",
       "  </thead>\n",
       "  <tbody>\n",
       "    <tr>\n",
       "      <th>count</th>\n",
       "      <td>102.000000</td>\n",
       "      <td>102.000000</td>\n",
       "      <td>102.000000</td>\n",
       "      <td>102.000000</td>\n",
       "      <td>102.000000</td>\n",
       "      <td>102.000000</td>\n",
       "      <td>102.000000</td>\n",
       "    </tr>\n",
       "    <tr>\n",
       "      <th>mean</th>\n",
       "      <td>0.500000</td>\n",
       "      <td>2.833201</td>\n",
       "      <td>2.862049</td>\n",
       "      <td>1.751438</td>\n",
       "      <td>1.719828</td>\n",
       "      <td>20.500000</td>\n",
       "      <td>16.147059</td>\n",
       "    </tr>\n",
       "    <tr>\n",
       "      <th>std</th>\n",
       "      <td>0.502469</td>\n",
       "      <td>0.865140</td>\n",
       "      <td>0.724692</td>\n",
       "      <td>0.947610</td>\n",
       "      <td>1.201313</td>\n",
       "      <td>5.891343</td>\n",
       "      <td>6.617404</td>\n",
       "    </tr>\n",
       "    <tr>\n",
       "      <th>min</th>\n",
       "      <td>0.000000</td>\n",
       "      <td>1.065940</td>\n",
       "      <td>1.429026</td>\n",
       "      <td>0.532342</td>\n",
       "      <td>0.429554</td>\n",
       "      <td>10.000000</td>\n",
       "      <td>5.000000</td>\n",
       "    </tr>\n",
       "    <tr>\n",
       "      <th>25%</th>\n",
       "      <td>0.000000</td>\n",
       "      <td>2.227705</td>\n",
       "      <td>2.327961</td>\n",
       "      <td>1.028551</td>\n",
       "      <td>0.945649</td>\n",
       "      <td>16.000000</td>\n",
       "      <td>11.000000</td>\n",
       "    </tr>\n",
       "    <tr>\n",
       "      <th>50%</th>\n",
       "      <td>0.500000</td>\n",
       "      <td>2.791479</td>\n",
       "      <td>2.778274</td>\n",
       "      <td>1.469285</td>\n",
       "      <td>1.402154</td>\n",
       "      <td>20.000000</td>\n",
       "      <td>16.000000</td>\n",
       "    </tr>\n",
       "    <tr>\n",
       "      <th>75%</th>\n",
       "      <td>1.000000</td>\n",
       "      <td>3.240542</td>\n",
       "      <td>3.302469</td>\n",
       "      <td>2.285345</td>\n",
       "      <td>2.030806</td>\n",
       "      <td>25.000000</td>\n",
       "      <td>21.000000</td>\n",
       "    </tr>\n",
       "    <tr>\n",
       "      <th>max</th>\n",
       "      <td>1.000000</td>\n",
       "      <td>6.018012</td>\n",
       "      <td>5.304088</td>\n",
       "      <td>4.804634</td>\n",
       "      <td>7.320382</td>\n",
       "      <td>30.000000</td>\n",
       "      <td>31.000000</td>\n",
       "    </tr>\n",
       "  </tbody>\n",
       "</table>\n",
       "</div>"
      ],
      "text/plain": [
       "           gender      wealth      beauty  desired_beauty  desired_wealth  \\\n",
       "count  102.000000  102.000000  102.000000      102.000000      102.000000   \n",
       "mean     0.500000    2.833201    2.862049        1.751438        1.719828   \n",
       "std      0.502469    0.865140    0.724692        0.947610        1.201313   \n",
       "min      0.000000    1.065940    1.429026        0.532342        0.429554   \n",
       "25%      0.000000    2.227705    2.327961        1.028551        0.945649   \n",
       "50%      0.500000    2.791479    2.778274        1.469285        1.402154   \n",
       "75%      1.000000    3.240542    3.302469        2.285345        2.030806   \n",
       "max      1.000000    6.018012    5.304088        4.804634        7.320382   \n",
       "\n",
       "       time_to_critical     estatus  \n",
       "count        102.000000  102.000000  \n",
       "mean          20.500000   16.147059  \n",
       "std            5.891343    6.617404  \n",
       "min           10.000000    5.000000  \n",
       "25%           16.000000   11.000000  \n",
       "50%           20.000000   16.000000  \n",
       "75%           25.000000   21.000000  \n",
       "max           30.000000   31.000000  "
      ]
     },
     "execution_count": 207,
     "metadata": {},
     "output_type": "execute_result"
    }
   ],
   "source": [
    "parejas.describe()"
   ]
  },
  {
   "cell_type": "code",
   "execution_count": 209,
   "metadata": {},
   "outputs": [
    {
     "data": {
      "text/plain": [
       "gender\n",
       "0    75\n",
       "1    62\n",
       "Name: estatus, dtype: int64"
      ]
     },
     "execution_count": 209,
     "metadata": {},
     "output_type": "execute_result"
    }
   ],
   "source": [
    "solteros.groupby('gender')['estatus'].count()"
   ]
  },
  {
   "cell_type": "code",
   "execution_count": 223,
   "metadata": {},
   "outputs": [
    {
     "data": {
      "text/plain": [
       "<matplotlib.axes._subplots.AxesSubplot at 0x26d5e00bac8>"
      ]
     },
     "execution_count": 223,
     "metadata": {},
     "output_type": "execute_result"
    },
    {
     "data": {
      "image/png": "[encoded data removed]",
      "text/plain": [
       "<Figure size 432x288 with 1 Axes>"
      ]
     },
     "metadata": {
      "needs_background": "light"
     },
     "output_type": "display_data"
    }
   ],
   "source": [
    "info_modelo.plot(x = 'Unnamed: 0', y = 'parejas')"
   ]
  },
  {
   "cell_type": "code",
   "execution_count": 226,
   "metadata": {},
   "outputs": [
    {
     "data": {
      "text/plain": [
       "<matplotlib.axes._subplots.AxesSubplot at 0x26d5e06b2b0>"
      ]
     },
     "execution_count": 226,
     "metadata": {},
     "output_type": "execute_result"
    },
    {
     "data": {
      "image/png": "[encoded data removed]",
      "text/plain": [
       "<Figure size 432x288 with 1 Axes>"
      ]
     },
     "metadata": {
      "needs_background": "light"
     },
     "output_type": "display_data"
    }
   ],
   "source": [
    "info_modelo.plot(x = 'Unnamed: 0', y = 'unhappy')"
   ]
  },
  {
   "cell_type": "code",
   "execution_count": 212,
   "metadata": {},
   "outputs": [
    {
     "name": "stderr",
     "output_type": "stream",
     "text": [
      "C:\\Users\\edari\\Anaconda3\\lib\\site-packages\\scipy\\stats\\stats.py:1713: FutureWarning: Using a non-tuple sequence for multidimensional indexing is deprecated; use `arr[tuple(seq)]` instead of `arr[seq]`. In the future this will be interpreted as an array index, `arr[np.array(seq)]`, which will result either in an error or a different result.\n",
      "  return np.add.reduce(sorted[indexer] * weights, axis=axis) / sumval\n"
     ]
    },
    {
     "data": {
      "image/png": "[encoded data removed]",
      "text/plain": [
       "<Figure size 432x288 with 1 Axes>"
      ]
     },
     "metadata": {
      "needs_background": "light"
     },
     "output_type": "display_data"
    }
   ],
   "source": [
    "p1 = sns.kdeplot(parejas['desired_wealth'], shade= True, color = 'r')\n",
    "p2 = sns.kdeplot(solteros['desired_wealth'], shade = True, color = 'b')\n"
   ]
  },
  {
   "cell_type": "code",
   "execution_count": 213,
   "metadata": {},
   "outputs": [
    {
     "data": {
      "image/png": "[encoded data removed]",
      "text/plain": [
       "<Figure size 432x288 with 1 Axes>"
      ]
     },
     "metadata": {
      "needs_background": "light"
     },
     "output_type": "display_data"
    }
   ],
   "source": [
    "p3 = sns.kdeplot(parejas['desired_beauty'], shade = True, color = 'r')\n",
    "p4 = sns.kdeplot(solteros['desired_beauty'], shade = True, color = 'b')"
   ]
  },
  {
   "cell_type": "code",
   "execution_count": null,
   "metadata": {},
   "outputs": [],
   "source": []
  },
  {
   "cell_type": "code",
   "execution_count": 215,
   "metadata": {},
   "outputs": [
    {
     "name": "stderr",
     "output_type": "stream",
     "text": [
      "C:\\Users\\edari\\Anaconda3\\lib\\site-packages\\scipy\\stats\\stats.py:1713: FutureWarning: Using a non-tuple sequence for multidimensional indexing is deprecated; use `arr[tuple(seq)]` instead of `arr[seq]`. In the future this will be interpreted as an array index, `arr[np.array(seq)]`, which will result either in an error or a different result.\n",
      "  return np.add.reduce(sorted[indexer] * weights, axis=axis) / sumval\n"
     ]
    },
    {
     "data": {
      "image/png": "[encoded data removed]",
      "text/plain": [
       "<Figure size 432x288 with 1 Axes>"
      ]
     },
     "metadata": {
      "needs_background": "light"
     },
     "output_type": "display_data"
    }
   ],
   "source": [
    "p5 = sns.kdeplot(parejas['wealth'], shade= True, color = 'r')\n",
    "p6 = sns.kdeplot(solteros['wealth'], shade = True, color = 'b')\n"
   ]
  },
  {
   "cell_type": "code",
   "execution_count": 216,
   "metadata": {},
   "outputs": [
    {
     "data": {
      "image/png": "[encoded data removed]",
      "text/plain": [
       "<Figure size 432x288 with 1 Axes>"
      ]
     },
     "metadata": {
      "needs_background": "light"
     },
     "output_type": "display_data"
    }
   ],
   "source": [
    "p7 = sns.kdeplot(parejas['beauty'], shade = True, color = 'r')\n",
    "p8 = sns.kdeplot(solteros['beauty'], shade = True, color = 'b')"
   ]
  },
  {
   "cell_type": "code",
   "execution_count": 217,
   "metadata": {},
   "outputs": [
    {
     "data": {
      "text/plain": [
       "<matplotlib.axes._subplots.AxesSubplot at 0x26d5dd87cf8>"
      ]
     },
     "execution_count": 217,
     "metadata": {},
     "output_type": "execute_result"
    },
    {
     "data": {
      "image/png": "[encoded data removed]",
      "text/plain": [
       "<Figure size 432x288 with 1 Axes>"
      ]
     },
     "metadata": {
      "needs_background": "light"
     },
     "output_type": "display_data"
    }
   ],
   "source": [
    " sns.boxplot(x=\"gender\", y=\"beauty\", data=solteros)"
   ]
  },
  {
   "cell_type": "code",
   "execution_count": 218,
   "metadata": {},
   "outputs": [
    {
     "data": {
      "text/plain": [
       "<matplotlib.axes._subplots.AxesSubplot at 0x26d5dbaef28>"
      ]
     },
     "execution_count": 218,
     "metadata": {},
     "output_type": "execute_result"
    },
    {
     "data": {
      "image/png": "[encoded data removed]",
      "text/plain": [
       "<Figure size 432x288 with 1 Axes>"
      ]
     },
     "metadata": {
      "needs_background": "light"
     },
     "output_type": "display_data"
    }
   ],
   "source": [
    " sns.boxplot(x=\"gender\", y=\"beauty\", data=parejas)"
   ]
  },
  {
   "cell_type": "code",
   "execution_count": 219,
   "metadata": {},
   "outputs": [
    {
     "data": {
      "text/plain": [
       "<matplotlib.axes._subplots.AxesSubplot at 0x26d5de67d68>"
      ]
     },
     "execution_count": 219,
     "metadata": {},
     "output_type": "execute_result"
    },
    {
     "data": {
      "image/png": "[encoded data removed]",
      "text/plain": [
       "<Figure size 432x288 with 1 Axes>"
      ]
     },
     "metadata": {
      "needs_background": "light"
     },
     "output_type": "display_data"
    }
   ],
   "source": [
    " sns.regplot(x=\"beauty\",\n",
    " y=\"wealth\",\n",
    " data=solteros)"
   ]
  },
  {
   "cell_type": "code",
   "execution_count": 220,
   "metadata": {},
   "outputs": [
    {
     "data": {
      "text/plain": [
       "<matplotlib.axes._subplots.AxesSubplot at 0x26d5deb99e8>"
      ]
     },
     "execution_count": 220,
     "metadata": {},
     "output_type": "execute_result"
    },
    {
     "data": {
      "image/png": "[encoded data removed]",
      "text/plain": [
       "<Figure size 432x288 with 1 Axes>"
      ]
     },
     "metadata": {
      "needs_background": "light"
     },
     "output_type": "display_data"
    }
   ],
   "source": [
    " sns.regplot(x=\"beauty\",\n",
    " y=\"wealth\",\n",
    " data=parejas)"
   ]
  },
  {
   "cell_type": "code",
   "execution_count": null,
   "metadata": {},
   "outputs": [],
   "source": []
  },
  {
   "cell_type": "code",
   "execution_count": null,
   "metadata": {},
   "outputs": [],
   "source": [
    "sns.scatterplot(x = data.first()['time_to_critical'], y = data.first()['wealth'], hue= data.first()['gender'])"
   ]
  },
  {
   "cell_type": "code",
   "execution_count": null,
   "metadata": {},
   "outputs": [],
   "source": [
    "sns.distplot(flights['arr_delay'], hist=True, kde=False, \n",
    "             bins=int(180/5), color = 'blue',\n",
    "             hist_kws={'edgecolor':'black'})"
   ]
  }
 ],
 "metadata": {
  "kernelspec": {
   "display_name": "Python 3",
   "language": "python",
   "name": "python3"
  },
  "language_info": {
   "codemirror_mode": {
    "name": "ipython",
    "version": 3
   },
   "file_extension": ".py",
   "mimetype": "text/x-python",
   "name": "python",
   "nbconvert_exporter": "python",
   "pygments_lexer": "ipython3",
   "version": "3.7.1"
  }
 },
 "nbformat": 4,
 "nbformat_minor": 2
}
